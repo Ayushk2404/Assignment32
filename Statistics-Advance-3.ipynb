{
 "cells": [
  {
   "cell_type": "code",
   "execution_count": 1,
   "metadata": {},
   "outputs": [
    {
     "data": {
      "text/plain": [
       "'Estimation statistics is a branch of statistics that involves using sample data to make inferences about population parameters. It allows us to estimate or approximate population characteristics based on information obtained from a sample. There are two main types of estimation: point estimation and interval estimation.\\n\\nPoint Estimate: A point estimate is a single value that is calculated from the sample data and used to estimate the corresponding population parameter. For example, the sample mean can be used as a point estimate of the population mean, or the sample proportion can be used as a point estimate of the population proportion. However, a point estimate alone does not provide information about the uncertainty or variability of the estimate.\\n\\nInterval Estimate: An interval estimate provides a range of values within which the population parameter is likely to fall, along with a level of confidence associated with that range. This range is called a confidence interval. For example, a 95% confidence interval for the population mean would provide a range of values within which we are 95% confident that the true population mean lies'"
      ]
     },
     "execution_count": 1,
     "metadata": {},
     "output_type": "execute_result"
    }
   ],
   "source": [
    "# Q1\n",
    "'''Estimation statistics is a branch of statistics that involves using sample data to make inferences about population parameters. It allows us to estimate or approximate population characteristics based on information obtained from a sample. There are two main types of estimation: point estimation and interval estimation.\n",
    "\n",
    "Point Estimate: A point estimate is a single value that is calculated from the sample data and used to estimate the corresponding population parameter. For example, the sample mean can be used as a point estimate of the population mean, or the sample proportion can be used as a point estimate of the population proportion. However, a point estimate alone does not provide information about the uncertainty or variability of the estimate.\n",
    "\n",
    "Interval Estimate: An interval estimate provides a range of values within which the population parameter is likely to fall, along with a level of confidence associated with that range. This range is called a confidence interval. For example, a 95% confidence interval for the population mean would provide a range of values within which we are 95% confident that the true population mean lies'''"
   ]
  },
  {
   "cell_type": "code",
   "execution_count": 5,
   "metadata": {},
   "outputs": [
    {
     "name": "stdout",
     "output_type": "stream",
     "text": [
      "Estimated population mean: 50\n"
     ]
    }
   ],
   "source": [
    "# Q2\n",
    "def estimate_population_mean(sample_mean, sample_std, sample_size):\n",
    "    estimated_population_mean = sample_mean\n",
    "    return estimated_population_mean\n",
    "\n",
    "# Example usage\n",
    "sample_mean = 50\n",
    "sample_std = 10\n",
    "sample_size = 100\n",
    "estimated_mean = estimate_population_mean(sample_mean, sample_std, sample_size)\n",
    "print(f\"Estimated population mean: {estimated_mean}\")\n"
   ]
  },
  {
   "cell_type": "code",
   "execution_count": 6,
   "metadata": {},
   "outputs": [
    {
     "data": {
      "text/plain": [
       "'Hypothesis testing is a statistical method used to make decisions or draw conclusions about a population based on a sample of data. It involves formulating two competing hypotheses, the null hypothesis (H0) and the alternative hypothesis (Ha), and then using sample data to determine whether there is enough evidence to reject the null hypothesis in favor of the alternative hypothesis.\\n\\nThe importance of hypothesis testing lies in its ability to:\\n\\nProvide a structured framework for making decisions based on data.\\nEnable researchers to test specific claims or assumptions about population parameters.\\nAssess the reliability of results and conclusions drawn from sample data.\\nGuide decision-making in various fields, including science, medicine, business, and social sciences.\\nEnhance the scientific rigor of research by subjecting hypotheses to empirical validation.\\nHypothesis testing helps ensure that conclusions drawn from data are not solely based on random fluctuations but are grounded in statistical evidence.'"
      ]
     },
     "execution_count": 6,
     "metadata": {},
     "output_type": "execute_result"
    }
   ],
   "source": [
    "# Q3\n",
    "'''Hypothesis testing is a statistical method used to make decisions or draw conclusions about a population based on a sample of data. It involves formulating two competing hypotheses, the null hypothesis (H0) and the alternative hypothesis (Ha), and then using sample data to determine whether there is enough evidence to reject the null hypothesis in favor of the alternative hypothesis.\n",
    "\n",
    "The importance of hypothesis testing lies in its ability to:\n",
    "\n",
    "Provide a structured framework for making decisions based on data.\n",
    "Enable researchers to test specific claims or assumptions about population parameters.\n",
    "Assess the reliability of results and conclusions drawn from sample data.\n",
    "Guide decision-making in various fields, including science, medicine, business, and social sciences.\n",
    "Enhance the scientific rigor of research by subjecting hypotheses to empirical validation.\n",
    "Hypothesis testing helps ensure that conclusions drawn from data are not solely based on random fluctuations but are grounded in statistical evidence.'''"
   ]
  },
  {
   "cell_type": "code",
   "execution_count": 7,
   "metadata": {},
   "outputs": [
    {
     "data": {
      "text/plain": [
       "'Null Hypothesis (H0): The average weight of male college students is equal to or less than the average weight of female college students.\\nAlternative Hypothesis (Ha): The average weight of male college students is greater than the average weight of female college students.'"
      ]
     },
     "execution_count": 7,
     "metadata": {},
     "output_type": "execute_result"
    }
   ],
   "source": [
    "# Q4\n",
    "'''Null Hypothesis (H0): The average weight of male college students is equal to or less than the average weight of female college students.\n",
    "Alternative Hypothesis (Ha): The average weight of male college students is greater than the average weight of female college students.'''"
   ]
  },
  {
   "cell_type": "code",
   "execution_count": 8,
   "metadata": {},
   "outputs": [
    {
     "name": "stdout",
     "output_type": "stream",
     "text": [
      "Reject the null hypothesis\n"
     ]
    }
   ],
   "source": [
    "# Q5\n",
    "import scipy.stats as stats\n",
    "\n",
    "# Sample data for two populations\n",
    "sample1 = [68, 72, 65, 70, 74, 69, 71, 73, 67, 66]\n",
    "sample2 = [62, 64, 59, 63, 61, 66, 60, 65, 62, 63]\n",
    "\n",
    "# Perform a two-sample t-test\n",
    "t_statistic, p_value = stats.ttest_ind(sample1, sample2)\n",
    "\n",
    "alpha = 0.05  # Significance level\n",
    "\n",
    "# Compare p-value with significance level to make a decision\n",
    "if p_value < alpha:\n",
    "    print(\"Reject the null hypothesis\")\n",
    "else:\n",
    "    print(\"Fail to reject the null hypothesis\")\n"
   ]
  },
  {
   "cell_type": "code",
   "execution_count": 9,
   "metadata": {},
   "outputs": [
    {
     "data": {
      "text/plain": [
       "\"Null Hypothesis (H0): The null hypothesis is a statement that there is no effect, no difference, or no relationship in the population. It's often denoted as a default assumption or the status quo. In hypothesis testing, we aim to either reject or fail to reject the null hypothesis based on sample data.\\nExample: The new drug has no significant effect on reducing blood pressure.\\nExample: The average response time using Method A is the same as the average response time using Method B.\\n\\nAlternative Hypothesis (Ha): The alternative hypothesis is a statement that contradicts the null hypothesis and suggests an effect, difference, or relationship exists in the population. It's what we're trying to find evidence for.\\nExample: The new drug significantly reduces blood pressure.\\nExample: The average response time using Method A is different from the average response time using Method B.\""
      ]
     },
     "execution_count": 9,
     "metadata": {},
     "output_type": "execute_result"
    }
   ],
   "source": [
    "# Q6\n",
    "'''Null Hypothesis (H0): The null hypothesis is a statement that there is no effect, no difference, or no relationship in the population. It's often denoted as a default assumption or the status quo. In hypothesis testing, we aim to either reject or fail to reject the null hypothesis based on sample data.\n",
    "Example: The new drug has no significant effect on reducing blood pressure.\n",
    "Example: The average response time using Method A is the same as the average response time using Method B.\n",
    "\n",
    "Alternative Hypothesis (Ha): The alternative hypothesis is a statement that contradicts the null hypothesis and suggests an effect, difference, or relationship exists in the population. It's what we're trying to find evidence for.\n",
    "Example: The new drug significantly reduces blood pressure.\n",
    "Example: The average response time using Method A is different from the average response time using Method B.'''"
   ]
  },
  {
   "cell_type": "code",
   "execution_count": 10,
   "metadata": {},
   "outputs": [
    {
     "data": {
      "text/plain": [
       "'Formulate Hypotheses: Define the null hypothesis (H0) and the alternative hypothesis (Ha) based on the research question.\\n\\nChoose Significance Level (α): Determine the significance level, denoted by α. This represents the threshold for considering results as statistically significant.\\n\\nCollect Data: Gather sample data relevant to the hypothesis being tested.\\n\\nCompute Test Statistic: Calculate the appropriate test statistic based on the sample data and the chosen test (e.g., t-test, z-test, chi-squared test).\\n\\nCalculate p-value: Determine the probability of observing results as extreme as those obtained from the sample data, assuming the null hypothesis is true.\\n\\nMake a Decision: Compare the p-value with the significance level α. If p-value < α, reject the null hypothesis in favor of the alternative hypothesis. If p-value ≥ α, fail to reject the null hypothesis.\\n\\nDraw Conclusion: Based on the decision made, draw a conclusion about the hypothesis being tested. This conclusion should be based on statistical evidence and the chosen significance level.\\n\\nReport Results: Communicate the findings, including the calculated test statistic, p-value, decision, and conclusion.'"
      ]
     },
     "execution_count": 10,
     "metadata": {},
     "output_type": "execute_result"
    }
   ],
   "source": [
    "# Q7\n",
    "'''Formulate Hypotheses: Define the null hypothesis (H0) and the alternative hypothesis (Ha) based on the research question.\n",
    "\n",
    "Choose Significance Level (α): Determine the significance level, denoted by α. This represents the threshold for considering results as statistically significant.\n",
    "\n",
    "Collect Data: Gather sample data relevant to the hypothesis being tested.\n",
    "\n",
    "Compute Test Statistic: Calculate the appropriate test statistic based on the sample data and the chosen test (e.g., t-test, z-test, chi-squared test).\n",
    "\n",
    "Calculate p-value: Determine the probability of observing results as extreme as those obtained from the sample data, assuming the null hypothesis is true.\n",
    "\n",
    "Make a Decision: Compare the p-value with the significance level α. If p-value < α, reject the null hypothesis in favor of the alternative hypothesis. If p-value ≥ α, fail to reject the null hypothesis.\n",
    "\n",
    "Draw Conclusion: Based on the decision made, draw a conclusion about the hypothesis being tested. This conclusion should be based on statistical evidence and the chosen significance level.\n",
    "\n",
    "Report Results: Communicate the findings, including the calculated test statistic, p-value, decision, and conclusion.'''"
   ]
  },
  {
   "cell_type": "code",
   "execution_count": 11,
   "metadata": {},
   "outputs": [
    {
     "data": {
      "text/plain": [
       "\"The p-value, or probability value, is a measure used in hypothesis testing to determine the strength of evidence against the null hypothesis. It represents the probability of obtaining sample data as extreme or more extreme than the observed data, assuming that the null hypothesis is true. In other words, a small p-value suggests that the observed data is unlikely to have occurred under the assumption of the null hypothesis.\\n\\nThe significance of the p-value in hypothesis testing is as follows:\\n\\nIf the p-value is small (typically smaller than the chosen significance level α), it suggests that the observed data is unlikely to have occurred due to random chance alone. This leads to rejecting the\\nnull hypothesis in favor of the alternative hypothesis.\\n\\nIf the p-value is large (greater than or equal to α), it indicates that the observed data could reasonably occur due to random chance, and there isn't strong enough evidence to reject the null hypothesis.\\nIn general, a lower p-value indicates stronger evidence against the null hypothesis. The significance level α helps establish a threshold beyond which we consider the evidence against the null hypothesis to be compelling enough to reject it. Commonly used significance levels include 0.05 (5%) or 0.01 (1%).\""
      ]
     },
     "execution_count": 11,
     "metadata": {},
     "output_type": "execute_result"
    }
   ],
   "source": [
    "# Q8\n",
    "'''The p-value, or probability value, is a measure used in hypothesis testing to determine the strength of evidence against the null hypothesis. It represents the probability of obtaining sample data as extreme or more extreme than the observed data, assuming that the null hypothesis is true. In other words, a small p-value suggests that the observed data is unlikely to have occurred under the assumption of the null hypothesis.\n",
    "\n",
    "The significance of the p-value in hypothesis testing is as follows:\n",
    "\n",
    "If the p-value is small (typically smaller than the chosen significance level α), it suggests that the observed data is unlikely to have occurred due to random chance alone. This leads to rejecting the\n",
    "null hypothesis in favor of the alternative hypothesis.\n",
    "\n",
    "If the p-value is large (greater than or equal to α), it indicates that the observed data could reasonably occur due to random chance, and there isn't strong enough evidence to reject the null hypothesis.\n",
    "In general, a lower p-value indicates stronger evidence against the null hypothesis. The significance level α helps establish a threshold beyond which we consider the evidence against the null hypothesis to be compelling enough to reject it. Commonly used significance levels include 0.05 (5%) or 0.01 (1%).'''"
   ]
  },
  {
   "cell_type": "code",
   "execution_count": 12,
   "metadata": {},
   "outputs": [
    {
     "data": {
      "image/png": "[encoded data removed]",
      "text/plain": [
       "<Figure size 640x480 with 1 Axes>"
      ]
     },
     "metadata": {},
     "output_type": "display_data"
    }
   ],
   "source": [
    "# Q9\n",
    "import numpy as np\n",
    "import matplotlib.pyplot as plt\n",
    "import scipy.stats as stats\n",
    "\n",
    "# Degrees of freedom\n",
    "df = 10\n",
    "\n",
    "# Generate x values\n",
    "x = np.linspace(-4, 4, 400)\n",
    "\n",
    "# Calculate the probability density function (PDF) for the t-distribution\n",
    "pdf = stats.t.pdf(x, df)\n",
    "\n",
    "# Plot the t-distribution\n",
    "plt.plot(x, pdf, label=f\"t-distribution (df={df})\")\n",
    "plt.xlabel('x')\n",
    "plt.ylabel('Probability Density')\n",
    "plt.title(\"Student's t-Distribution\")\n",
    "plt.legend()\n",
    "plt.grid(True)\n",
    "plt.show()\n"
   ]
  },
  {
   "cell_type": "code",
   "execution_count": 13,
   "metadata": {},
   "outputs": [
    {
     "name": "stdout",
     "output_type": "stream",
     "text": [
      "Fail to reject the null hypothesis\n"
     ]
    }
   ],
   "source": [
    "# Q10\n",
    "import scipy.stats as stats\n",
    "\n",
    "# Sample data for two populations\n",
    "sample1 = [12.5, 14.2, 15.1, 13.8, 14.7]\n",
    "sample2 = [11.8, 13.2, 12.6, 14.4, 13.9]\n",
    "\n",
    "# Perform a two-sample t-test\n",
    "t_statistic, p_value = stats.ttest_ind(sample1, sample2)\n",
    "\n",
    "alpha = 0.05  # Significance level\n",
    "\n",
    "# Compare p-value with significance level to make a decision\n",
    "if p_value < alpha:\n",
    "    print(\"Reject the null hypothesis\")\n",
    "else:\n",
    "    print(\"Fail to reject the null hypothesis\")\n"
   ]
  },
  {
   "cell_type": "code",
   "execution_count": 14,
   "metadata": {},
   "outputs": [
    {
     "data": {
      "text/plain": [
       "\"Student's t-distribution, often referred to as the t-distribution, is a probability distribution that is used when dealing with small sample sizes or when the population standard deviation is unknown. It is similar in shape to the standard normal distribution (z-distribution), but its tails are slightly thicker, which accommodates the increased variability that can arise from small samples.\\n\\nThe t-distribution is used in hypothesis testing and confidence interval estimation when:\\n\\nThe sample size is small (typically n < 30).\\nThe population standard deviation is unknown and is estimated from the sample.\\nThe sample data are approximately normally distributed.\\nThe t-distribution becomes closer to the standard normal distribution as the sample size increases. When the sample size is large (usually n ≥ 30), the t-distribution is essentially indistinguishable from the standard normal distribution.\""
      ]
     },
     "execution_count": 14,
     "metadata": {},
     "output_type": "execute_result"
    }
   ],
   "source": [
    "# Q11\n",
    "'''Student's t-distribution, often referred to as the t-distribution, is a probability distribution that is used when dealing with small sample sizes or when the population standard deviation is unknown. It is similar in shape to the standard normal distribution (z-distribution), but its tails are slightly thicker, which accommodates the increased variability that can arise from small samples.\n",
    "\n",
    "The t-distribution is used in hypothesis testing and confidence interval estimation when:\n",
    "\n",
    "The sample size is small (typically n < 30).\n",
    "The population standard deviation is unknown and is estimated from the sample.\n",
    "The sample data are approximately normally distributed.\n",
    "The t-distribution becomes closer to the standard normal distribution as the sample size increases. When the sample size is large (usually n ≥ 30), the t-distribution is essentially indistinguishable from the standard normal distribution.'''"
   ]
  },
  {
   "cell_type": "code",
   "execution_count": 15,
   "metadata": {},
   "outputs": [
    {
     "data": {
      "text/plain": [
       "'The t-statistic (or t-value) is a test statistic used in hypothesis testing to assess the evidence against the null hypothesis. It measures how many standard errors the sample mean is away from the hypothesized population mean under the null hypothesis. The formula for calculating the t-statistic is:\\n\\n�\\n=\\nSample Mean\\n−\\nHypothesized Population Mean\\nStandard Error of the Sample Mean\\nt= \\nStandard Error of the Sample Mean\\nSample Mean−Hypothesized Population Mean\\n\\u200b\\n \\n\\nWhere:\\n\\nSample Mean: The mean of the sample.\\nHypothesized Population Mean: The value specified in the null hypothesis.\\nStandard Error of the Sample Mean: The standard deviation of the sample divided by the square root of the sample size.\\nThe t-statistic is used to calculate the p-value, which helps in making decisions about the null hypothesis.'"
      ]
     },
     "execution_count": 15,
     "metadata": {},
     "output_type": "execute_result"
    }
   ],
   "source": [
    "# Q12\n",
    "'''The t-statistic (or t-value) is a test statistic used in hypothesis testing to assess the evidence against the null hypothesis. It measures how many standard errors the sample mean is away from the hypothesized population mean under the null hypothesis. The formula for calculating the t-statistic is:\n",
    "\n",
    "�\n",
    "=\n",
    "Sample Mean\n",
    "−\n",
    "Hypothesized Population Mean\n",
    "Standard Error of the Sample Mean\n",
    "t= \n",
    "Standard Error of the Sample Mean\n",
    "Sample Mean−Hypothesized Population Mean\n",
    "​\n",
    " \n",
    "\n",
    "Where:\n",
    "\n",
    "Sample Mean: The mean of the sample.\n",
    "Hypothesized Population Mean: The value specified in the null hypothesis.\n",
    "Standard Error of the Sample Mean: The standard deviation of the sample divided by the square root of the sample size.\n",
    "The t-statistic is used to calculate the p-value, which helps in making decisions about the null hypothesis.'''"
   ]
  },
  {
   "cell_type": "code",
   "execution_count": 18,
   "metadata": {},
   "outputs": [
    {
     "data": {
      "text/plain": [
       "'Given:\\nSample mean (x̄) = $500\\nSample size (n) = 50\\nSample standard deviation (s) = $50\\nConfidence level = 95%\\n\\nThe formula for the confidence interval is:\\n\\nConfidence Interval = x̄ ± (t * s / √n)\\n\\nWhere:\\nt is the critical t-score for the desired confidence level and degrees of freedom.\\ns is the sample standard deviation.\\n√n is the square root of the sample size.\\n\\nFirst, you need to find the critical t-score from the t-distribution table for a 95% confidence level and (n-1) degrees of freedom (49 in this case).\\n\\nUsing a t-distribution table or calculator, the critical t-score for a 95% confidence level and 49 degrees of freedom is approximately 2.0096.\\n\\nNow, plug the values into the formula:\\n\\nConfidence Interval = 500 ± (2.0096 * 50 / √50)\\nConfidence Interval = 500 ± 14.20\\n\\nSo, the 95% confidence interval for the population mean revenue is approximately $485.80 to $514.20. This means we are 95% confident that the true population mean revenue falls within this interval based on the sample data provided.'"
      ]
     },
     "execution_count": 18,
     "metadata": {},
     "output_type": "execute_result"
    }
   ],
   "source": [
    "# Q13\n",
    "\n",
    "'''Given:\n",
    "Sample mean (x̄) = $500\n",
    "Sample size (n) = 50\n",
    "Sample standard deviation (s) = $50\n",
    "Confidence level = 95%\n",
    "\n",
    "The formula for the confidence interval is:\n",
    "\n",
    "Confidence Interval = x̄ ± (t * s / √n)\n",
    "\n",
    "Where:\n",
    "t is the critical t-score for the desired confidence level and degrees of freedom.\n",
    "s is the sample standard deviation.\n",
    "√n is the square root of the sample size.\n",
    "\n",
    "First, you need to find the critical t-score from the t-distribution table for a 95% confidence level and (n-1) degrees of freedom (49 in this case).\n",
    "\n",
    "Using a t-distribution table or calculator, the critical t-score for a 95% confidence level and 49 degrees of freedom is approximately 2.0096.\n",
    "\n",
    "Now, plug the values into the formula:\n",
    "\n",
    "Confidence Interval = 500 ± (2.0096 * 50 / √50)\n",
    "Confidence Interval = 500 ± 14.20\n",
    "\n",
    "So, the 95% confidence interval for the population mean revenue is approximately $485.80 to $514.20. This means we are 95% confident that the true population mean revenue falls within this interval based on the sample data provided.'''"
   ]
  },
  {
   "cell_type": "code",
   "execution_count": 19,
   "metadata": {},
   "outputs": [
    {
     "data": {
      "text/plain": [
       "\"Step 5: Draw a Conclusion\\n\\nSince you've rejected the null hypothesis, you have evidence to suggest that the new drug does indeed decrease blood pressure by more than 10 mmHg.\""
      ]
     },
     "execution_count": 19,
     "metadata": {},
     "output_type": "execute_result"
    }
   ],
   "source": [
    "# Q14\n",
    "'''Mathematically:\n",
    "H0: μ = 10 (where μ is the true mean decrease in blood pressure)\n",
    "Ha: μ < 10'''\n",
    "'''\n",
    "Step 2: Calculate the Test Statistic\n",
    "\n",
    "The formula for the t-test statistic for a one-sample t-test is:\n",
    "\n",
    "t = x̄ - μ / s / √n\n",
    "where x̄ is the sample mean, μ is the hypothesized population mean, s is the sample standard deviation, and n is the sample size.'''\n",
    "'''given:  u=10 x̄ = 8, s = 3 n = 100\n",
    "t = 8 - 10 / 3 / √100\n",
    "t = -6.67'''\n",
    "'''Step 3: Find the p-value\n",
    "\n",
    "The p-value is the probability of observing a t-statistic as extreme as the one calculated (or more extreme) under the assumption that the null hypothesis is true.\n",
    "\n",
    "Using a t-distribution table or calculator, find the p-value associated with \n",
    "t = -6.67 and df = 99. The p-value will be very close to 0.'''\n",
    "'''Step 4: Make a Decision\n",
    "\n",
    "Compare the p-value to the significance level (α = 0.05). If the p-value is less than α, you reject the null hypothesis. If the p-value is greater than or equal to α, you fail to reject the null hypothesis.\n",
    "\n",
    "In this case, since the p-value is very close to 0 (much smaller than 0.05), you would reject the null hypothesis.'''\n",
    "\n",
    "'''Step 5: Draw a Conclusion\n",
    "\n",
    "Since you've rejected the null hypothesis, you have evidence to suggest that the new drug does indeed decrease blood pressure by more than 10 mmHg.'''\n",
    "\n",
    "\n"
   ]
  },
  {
   "cell_type": "code",
   "execution_count": 20,
   "metadata": {},
   "outputs": [
    {
     "data": {
      "text/plain": [
       "'Step 5: Draw a Conclusion\\n\\nIn this case, if the p-value is less than 0.01, you would reject the null hypothesis. This would suggest that there is evidence to support the claim that the true mean weight of the products is less than 5 pounds.\\n\\nRemember that the exact p-value depends on the t-distribution and the specific software or tool you use for calculations. If the calculated p-value is smaller than 0.01, it indicates strong evidence against the null hypothesis.'"
      ]
     },
     "execution_count": 20,
     "metadata": {},
     "output_type": "execute_result"
    }
   ],
   "source": [
    "# Q15\n",
    "'''To test the hypothesis about the mean weight of the products using a significance level of 0.01, we'll perform a one-sample t-test. Here are the steps:'''\n",
    "'''Step 1: Set Up Hypotheses\n",
    "\n",
    "Null Hypothesis (H0): The true mean weight of the products is 5 pounds.\n",
    "Alternative Hypothesis (Ha): The true mean weight of the products is less than 5 pounds.\n",
    "\n",
    "Mathematically:\n",
    "H0: μ = 5 (where μ is the true mean weight)\n",
    "Ha: μ < 5'''\n",
    "'''\n",
    "The formula for the t-test statistic for a one-sample t-test is:\n",
    "\n",
    "t = x̄ - μ / s / √n\n",
    "where x̄ is the sample mean, μ is the hypothesized population mean, s is the sample standard deviation, and n is the sample size.'''\n",
    "'''given:  u = 5 x̄ = 4.8, s = 0.5 n = 25\n",
    "t = 4.8 - 5 / 0.5 / √25\n",
    "t = -2.0'''\n",
    "\n",
    "'''Step 3: Find the p-value\n",
    "\n",
    "Using a t-distribution table or calculator, find the p-value associated with \n",
    "t=−2.0. The p-value will represent the probability of observing a t-statistic as extreme as the one calculated (or more extreme) under the assumption that the null hypothesis is true.'''\n",
    "'''Step 4: Make a Decision\n",
    "\n",
    "Compare the p-value to the significance level (α = 0.01). If the p-value is less than α, you reject the null hypothesis. If the p-value is greater than or equal to α, you fail to reject the null hypothesis.'''\n",
    "'''Step 5: Draw a Conclusion\n",
    "\n",
    "In this case, if the p-value is less than 0.01, you would reject the null hypothesis. This would suggest that there is evidence to support the claim that the true mean weight of the products is less than 5 pounds.\n",
    "\n",
    "Remember that the exact p-value depends on the t-distribution and the specific software or tool you use for calculations. If the calculated p-value is smaller than 0.01, it indicates strong evidence against the null hypothesis.'''"
   ]
  },
  {
   "cell_type": "code",
   "execution_count": 21,
   "metadata": {},
   "outputs": [
    {
     "data": {
      "text/plain": [
       "'Step 5: Draw a Conclusion\\n\\nIn this case, if the p-value is less than 0.01, you would reject the null hypothesis. This suggests that there is evidence to support the claim that the population means of the two groups are not equal.'"
      ]
     },
     "execution_count": 21,
     "metadata": {},
     "output_type": "execute_result"
    }
   ],
   "source": [
    "# Q16\n",
    "'''To test the hypothesis about the equality of population means for the two groups using a significance level of 0.01, we'll perform an independent two-sample t-test. Here are the steps:\n",
    "\n",
    "Step 1: Set Up Hypotheses\n",
    "\n",
    "Null Hypothesis (H0): The population means of the two groups are equal.\n",
    "Alternative Hypothesis (Ha): The population means of the two groups are not equal.\n",
    "\n",
    "Mathematically:\n",
    "H0: μ1 = μ2 (where μ1 and μ2 are the population means of the two groups)\n",
    "Ha: μ1 ≠ μ2'''\n",
    "\n",
    "'''Step 2: Calculate the Test Statistic\n",
    "\n",
    "The formula for the test statistic for an independent two-sample t-test is:\n",
    "t = (x1 - x2) / sqrt(s1^2/n1 + s2^2/n2)\n",
    "where: x1 = mean of sample 1\n",
    "x2 = mean of sample 2\n",
    "s1 = standard deviation of sample 1\n",
    "    s2 = standard deviation of sample 2\n",
    "    n1 = size of sample 1\n",
    "    n2 = size of sample 2'''\n",
    "    \n",
    "    \n",
    "'''given for group 1:\n",
    "x1 = 80\n",
    "s1 = 10\n",
    "n1 = 30\n",
    "\n",
    "for group 2:\n",
    "x2 = 75\n",
    "s2 = 8\n",
    "n2 = 40'''\n",
    "'''substituting the values in the formula, we get:\n",
    " t = (80 - 75) / sqrt(10^2/30 + 8^2/40)\n",
    " t = 5 / sqrt(3.33 + 1.6)\n",
    " t = 5 / sqrt(4.93)\n",
    " t = 5 / 2.22\n",
    " t = 2.25'''\n",
    "'''Step 3: Find the p-value\n",
    "\n",
    "Using a t-distribution table or calculator, find the p-value associated with \n",
    "\n",
    "t=2.84. The p-value represents the probability of observing a t-statistic as extreme as the one calculated (or more extreme) under the assumption that the null hypothesis is true.'''\n",
    "\n",
    "'''Step 4: Make a Decision\n",
    "\n",
    "Compare the p-value to the significance level (α = 0.01). If the p-value is less than α, you reject the null hypothesis. If the p-value is greater than or equal to α, you fail to reject the null hypothesis.'''\n",
    "\n",
    "'''Step 5: Draw a Conclusion\n",
    "\n",
    "In this case, if the p-value is less than 0.01, you would reject the null hypothesis. This suggests that there is evidence to support the claim that the population means of the two groups are not equal.'''"
   ]
  },
  {
   "cell_type": "code",
   "execution_count": 22,
   "metadata": {},
   "outputs": [
    {
     "data": {
      "text/plain": [
       "\"To estimate the population mean number of ads watched by viewers during a TV program with a 99% confidence interval, you can use the formula for a confidence interval for the population mean when the population standard deviation is not known. Since the population standard deviation is not known, you'll use the t-distribution.\\ngiven:\\nsample mean = 4\\nsample standard deviation = 1.5\\nsample size = 50\\nThe formula for the confidence interval is:\\nsample mean ± t * (sample standard deviation / sqrt(sample size))\\nWhere t is the t-value for the confidence level, sample mean is the mean of the sample, sample standard deviation is the standard deviation of the sample, and sample size is the size of the sample.\\ncritical t-score for 99% confidence interval with 49 degrees of freedom is 2.680\\nconfidence interval = 4 ± 2.680 * (1.5 / sqrt(50))\\nconfidence interval = 4 ± 0.603\\nconfidence interval = (3.397, 4.603)\\nThe 99% confidence interval for the population mean number of ads watched by viewers during a TV program is (3.397, 4.603).\\n\\n\\n\""
      ]
     },
     "execution_count": 22,
     "metadata": {},
     "output_type": "execute_result"
    }
   ],
   "source": [
    "# Q17\n",
    "'''To estimate the population mean number of ads watched by viewers during a TV program with a 99% confidence interval, you can use the formula for a confidence interval for the population mean when the population standard deviation is not known. Since the population standard deviation is not known, you'll use the t-distribution.\n",
    "given:\n",
    "sample mean = 4\n",
    "sample standard deviation = 1.5\n",
    "sample size = 50\n",
    "The formula for the confidence interval is:\n",
    "sample mean ± t * (sample standard deviation / sqrt(sample size))\n",
    "Where t is the t-value for the confidence level, sample mean is the mean of the sample, sample standard deviation is the standard deviation of the sample, and sample size is the size of the sample.\n",
    "critical t-score for 99% confidence interval with 49 degrees of freedom is 2.680\n",
    "confidence interval = 4 ± 2.680 * (1.5 / sqrt(50))\n",
    "confidence interval = 4 ± 0.603\n",
    "confidence interval = (3.397, 4.603)\n",
    "The 99% confidence interval for the population mean number of ads watched by viewers during a TV program is (3.397, 4.603).\n",
    "\n",
    "\n",
    "'''"
   ]
  }
 ],
 "metadata": {
  "kernelspec": {
   "display_name": "Python 3",
   "language": "python",
   "name": "python3"
  },
  "language_info": {
   "codemirror_mode": {
    "name": "ipython",
    "version": 3
   },
   "file_extension": ".py",
   "mimetype": "text/x-python",
   "name": "python",
   "nbconvert_exporter": "python",
   "pygments_lexer": "ipython3",
   "version": "3.11.4"
  },
  "orig_nbformat": 4
 },
 "nbformat": 4,
 "nbformat_minor": 2
}
